{
 "cells": [
  {
   "cell_type": "code",
   "execution_count": 2,
   "metadata": {},
   "outputs": [],
   "source": [
    "import numpy as np\n",
    "import matplotlib.pyplot as plt\n",
    "import gym \n",
    "import random"
   ]
  },
  {
   "cell_type": "code",
   "execution_count": 3,
   "metadata": {},
   "outputs": [],
   "source": [
    "env = gym.make('MountainCar-v0')\n"
   ]
  },
  {
   "cell_type": "code",
   "execution_count": 14,
   "metadata": {},
   "outputs": [],
   "source": [
    "def Qlearning(env,learning_rate, discount_rate, episilon, episilon_min, episodes):\n",
    "    num_state = (env.observation_space.high - env.observation_space.low)*np.array([10,100]) \n",
    "    num_state = np.round(num_state,0).astype(int) +1\n",
    "    \n",
    "    Q_table = np.zeros(shape= (num_state[0], num_state[1], env.action_space.n))\n",
    "    \n",
    "    reward_list = []\n",
    "    ave_reward_list = []\n",
    "    \n",
    "    #Decay for each episode\n",
    "    decay =  (episilon - episilon_min) / np.exp(-0.001 * episodes)\n",
    "    \n",
    "    # Q learning Algorithm\n",
    "    for i in range(episodes):\n",
    "        done = False\n",
    "        state = env.reset()\n",
    "        total_reward, reward = 0,0\n",
    "        \n",
    "        #Discretized the state\n",
    "        state_discrete = (state - env.observation_space.low)*np.array([10,100])\n",
    "        state_discrete = np.round(state_discrete,0).astype(int)\n",
    "        \n",
    "        while done != True:\n",
    "            if i >= (episodes -20):\n",
    "                    env.render()\n",
    "                    \n",
    "            #Episilon Greedy Algorithm\n",
    "            \n",
    "            if np.random.random() > episilon:\n",
    "                action = np.argmax(Q_table[state_discrete[0],state_discrete[1]])\n",
    "            else:\n",
    "                action = np.random.randint(0, env.action_space.n)\n",
    "                \n",
    "            next_state, reward, done, info = env.step(action)\n",
    "            \n",
    "            # Discretized the nextstate \n",
    "            next_state_discrete = (next_state - env.observation_space.low)*np.array([10,100])\n",
    "            next_state_discrete = np.round(next_state_discrete,0).astype(int)\n",
    "            \n",
    "            \n",
    "            # Updating the Q table\n",
    "            if done and next_state[0] >= 0.5:\n",
    "                Q_table[state_discrete[0], state_discrete[1], action] = reward\n",
    "                \n",
    "            else:\n",
    "                learned_value = learning_rate *(reward + discount_rate * np.max(Q_table[next_state_discrete[0], next_state_discrete[1]]) - Q_table[state_discrete[0],state_discrete[1], action])\n",
    "                Q_table[state_discrete[0],state_discrete[1], action] += learned_value\n",
    "            \n",
    "            total_reward += reward\n",
    "            state_discrete = next_state_discrete\n",
    "            \n",
    "        #Decaying the episilon value \n",
    "        if episilon > episilon_min:\n",
    "            episilon -= decay\n",
    "            \n",
    "        #Tracking the reward\n",
    "        reward_list.append(total_reward)\n",
    "            \n",
    "            \n",
    "        if (i+1) % 100 == 0:\n",
    "            ave_reward = np.mean(reward_list)\n",
    "            ave_reward_list.append(ave_reward)\n",
    "            reward_list = []\n",
    "                \n",
    "        if (i +1) % 100 == 0: \n",
    "            print(\"Episode {} Average Reward: {}\".format(i+1, ave_reward))\n",
    "            \n",
    "    env.close()\n",
    "    \n",
    "    return ave_reward_list"
   ]
  },
  {
   "cell_type": "code",
   "execution_count": 17,
   "metadata": {},
   "outputs": [
    {
     "name": "stdout",
     "output_type": "stream",
     "text": [
      "Episode 100 Average Reward: -200.0\n",
      "Episode 200 Average Reward: -200.0\n",
      "Episode 300 Average Reward: -200.0\n",
      "Episode 400 Average Reward: -197.02\n",
      "Episode 500 Average Reward: -200.0\n"
     ]
    }
   ],
   "source": [
    "# Running the Q_learning Algorithm\n",
    "rewards = Qlearning(env,0.1,0.9,1,0.01,500)"
   ]
  },
  {
   "cell_type": "code",
   "execution_count": 16,
   "metadata": {},
   "outputs": [
    {
     "data": {
      "image/png": "[encoded data removed]",
      "text/plain": [
       "<Figure size 432x288 with 1 Axes>"
      ]
     },
     "metadata": {
      "needs_background": "light"
     },
     "output_type": "display_data"
    }
   ],
   "source": [
    "plt.plot(100*(np.arange(len(rewards)) +1),rewards)\n",
    "plt.xlabel(\"Episodes\")\n",
    "plt.ylabel(\"Average Reward\")\n",
    "plt.title(\"Average Reward vs Episodes\")\n",
    "plt.show()"
   ]
  },
  {
   "cell_type": "code",
   "execution_count": 6,
   "metadata": {},
   "outputs": [
    {
     "data": {
      "text/plain": [
       "(2,)"
      ]
     },
     "execution_count": 6,
     "metadata": {},
     "output_type": "execute_result"
    }
   ],
   "source": [
    "env.reset().shape"
   ]
  },
  {
   "cell_type": "code",
   "execution_count": 7,
   "metadata": {},
   "outputs": [
    {
     "data": {
      "text/plain": [
       "(1, 2)"
      ]
     },
     "execution_count": 7,
     "metadata": {},
     "output_type": "execute_result"
    }
   ],
   "source": [
    "env.reset().reshape(1,2).shape"
   ]
  },
  {
   "cell_type": "code",
   "execution_count": null,
   "metadata": {},
   "outputs": [],
   "source": []
  },
  {
   "cell_type": "code",
   "execution_count": null,
   "metadata": {},
   "outputs": [],
   "source": []
  }
 ],
 "metadata": {
  "kernelspec": {
   "display_name": "Python 3",
   "language": "python",
   "name": "python3"
  },
  "language_info": {
   "codemirror_mode": {
    "name": "ipython",
    "version": 3
   },
   "file_extension": ".py",
   "mimetype": "text/x-python",
   "name": "python",
   "nbconvert_exporter": "python",
   "pygments_lexer": "ipython3",
   "version": "3.7.6"
  }
 },
 "nbformat": 4,
 "nbformat_minor": 4
}
