{
 "cells": [
  {
   "cell_type": "code",
   "execution_count": 1,
   "metadata": {},
   "outputs": [
    {
     "name": "stderr",
     "output_type": "stream",
     "text": [
      "Using TensorFlow backend.\n"
     ]
    }
   ],
   "source": [
    "#Importing all libraries and dependecies \n",
    "import numpy as np\n",
    "import matplotlib.pyplot as plt\n",
    "import gym \n",
    "import random\n",
    "from collections import deque\n",
    "from keras.models import Sequential\n",
    "from keras.layers import Dense\n",
    "from keras.optimizers import Adam"
   ]
  },
  {
   "cell_type": "code",
   "execution_count": 2,
   "metadata": {},
   "outputs": [],
   "source": [
    "class DQN:\n",
    "    def __init__(self,env):\n",
    "        self.env = env  # Environment \n",
    "        self.gamma = 0.99# Discount factor  \n",
    "        self.batch_size = 64 # Batch_size \n",
    "        self.memory = deque(maxlen= 10000) #Memory \n",
    "        self.memory_size = 1000 # \n",
    "        self.state_size = env.observation_space.shape[0] # State size \n",
    "        self.action_size = env.action_space.n # action shape\n",
    "        self.learning_rate = 0.001 # Learing rate \n",
    "        self.episilon = 1.0 # Episilon for greedy strategy\n",
    "        self.episilon_min = 0.005 # Minimum value of episilon\n",
    "        self.decay = (self.episilon - self.episilon_min)/50000  # Decay_rate\n",
    "        self.policy = self.Create_model() # Policy Network\n",
    "        self.target_Net = self.Create_model() # Target Network\n",
    "        \n",
    "    def Create_model(self): #creating a Neural Network\n",
    "        model = Sequential()\n",
    "        model.add(Dense(24, activation = 'relu'))\n",
    "        model.add(Dense(self.action_size, activation = 'linear'))\n",
    "        model.compile(loss = 'mse', optimizer = Adam(lr = self.learning_rate))\n",
    "        return model\n",
    "    \n",
    "    #Episilon-Greedy Strategy\n",
    "    def act(self,state):\n",
    "        if np.random.random() < self.episilon:\n",
    "            action = self.env.action_space.sample()\n",
    "        else:\n",
    "            action = np.argmax(self.policy.predict(state)[0])\n",
    "            \n",
    "        if self.episilon > self.episilon_min:\n",
    "            self.episilon -= self.decay\n",
    "        return action\n",
    "    \n",
    "    #Adding Experience \n",
    "    def remember(self, state, action, reward, next_state, done):\n",
    "        self.memory.append([state, action, reward, next_state, done])\n",
    "    \n",
    "    # Replay function\n",
    "    def replay(self):\n",
    "        if len(self.memory) < self.memory_size:\n",
    "            return\n",
    "        mini_batch = random.sample(self.memory, self.batch_size)\n",
    "        state_input = np.zeros((self.batch_size, self.state_size))\n",
    "        target_output = np.zeros((self.batch_size, self.action_size))\n",
    "            \n",
    "        for i in range(self.batch_size):\n",
    "            state, action, reward, next_state,done = mini_batch[i]\n",
    "            target = self.policy.predict(state)[0]\n",
    "            if done:\n",
    "                target[action]  = reward\n",
    "            else:\n",
    "                target[action] = reward + self.gamma*np.amax(self.target_Net.predict(next_state)[0])\n",
    "                    \n",
    "            state_input[i] = state\n",
    "            target_output[i] = target\n",
    "                \n",
    "        self.policy.fit(state_input, target_output, batch_size = self.batch_size, epochs = 1, verbose = 0)\n",
    "        \n",
    "    # Updating the target net with policy network weights        \n",
    "    def target_train(self):\n",
    "            self.target_Net.set_weights(self.policy.get_weights())\n",
    "            return\n",
    "    #Saving the trained model     \n",
    "    def save(self,model_name, model_weight):\n",
    "        self.policy.save(model_name)\n",
    "        self.policy.save_weights(model_weight)"
   ]
  },
  {
   "cell_type": "code",
   "execution_count": 4,
   "metadata": {
    "scrolled": false
   },
   "outputs": [
    {
     "name": "stdout",
     "output_type": "stream",
     "text": [
      "Episode 100 Average Reward: -200.0\n",
      "Episode 200 Average Reward: -200.0\n",
      "Episode 300 Average Reward: -200.0\n",
      "Episode 400 Average Reward: -200.0\n",
      "Episode 500 Average Reward: -199.52\n",
      "Episode 600 Average Reward: -200.0\n",
      "Episode 700 Average Reward: -200.0\n",
      "Episode 800 Average Reward: -200.0\n",
      "Episode 900 Average Reward: -199.56\n",
      "Episode 1000 Average Reward: -191.89\n",
      "Episode 1100 Average Reward: -183.16\n",
      "Episode 1200 Average Reward: -171.81\n",
      "Episode 1300 Average Reward: -143.24\n",
      "Episode 1400 Average Reward: -126.36\n",
      "Episode 1500 Average Reward: -126.71\n",
      "Episode 1600 Average Reward: -135.94\n",
      "Episode 1700 Average Reward: -139.82\n",
      "Episode 1800 Average Reward: -142.73\n",
      "Episode 1900 Average Reward: -138.64\n",
      "Episode 2000 Average Reward: -153.0\n"
     ]
    }
   ],
   "source": [
    "#Initializing the environment \n",
    "env = gym.make(\"MountainCar-v0\")\n",
    "\n",
    "#state_size\n",
    "state_size = env.observation_space.shape[0] \n",
    "#number of time_step for each episode\n",
    "steps = 200\n",
    "\n",
    "#Number of episode for the episodic task\n",
    "episode = 2000\n",
    "\n",
    "#Empty list for keeping track of reward for each episodes \n",
    "reward_list =[]\n",
    "rewards = []\n",
    "\n",
    "#Empty list for keeping track of the average reward over 100 episodes \n",
    "\n",
    "ave_reward_list = []\n",
    "\n",
    "#Initializing the Deep Q_network agent\n",
    "dqn_agent= DQN(env)\n",
    "\n",
    "# Iterating over each episode \n",
    "for e in range(episode):\n",
    "    current_state = env.reset().reshape(1,state_size)\n",
    "    reward_sum  = 0\n",
    "    #Training for each time-step\n",
    "    for _ in range(steps):\n",
    "        if e >= (episode -20): # rendering the environment for the last five episodes \n",
    "            env.render()\n",
    "        action = dqn_agent.act(current_state) # Best action using episilon-greedy strategy\n",
    "        \n",
    "        next_state, reward, done, info = env.step(action) # processing the action\n",
    "        \n",
    "        next_state = next_state.reshape(1, state_size) # reshaping for the neural network\n",
    "        \n",
    "        dqn_agent.remember(current_state, action, reward, next_state, done) # Adding the experience to the memory batch\n",
    "        \n",
    "        dqn_agent.replay() # Replaying a sample batch from the Experience memory \n",
    "        \n",
    "        #Tracking the Reward for each episode\n",
    "        reward_sum += reward\n",
    "        \n",
    "        #initializing the current_state for the next time_step\n",
    "        current_state = next_state\n",
    "        \n",
    "        if done:\n",
    "            dqn_agent.target_train() #if the episode is done get the weights of the policy_net to update the target_net\n",
    "            break\n",
    "        \n",
    "    # append the total reward of each episode to the list\n",
    "    reward_list.append(reward_sum)\n",
    "    rewards.append(reward_sum)\n",
    "    \n",
    "    #computing the average Reward over 100 episodes \n",
    "    if (e+1) % 100 == 0:\n",
    "            ave_reward = np.mean(reward_list)\n",
    "            ave_reward_list.append(ave_reward)\n",
    "            print(\"Episode {} Average Reward: {}\".format(e+1, ave_reward))\n",
    "            reward_list = [] # Returning an empty list for the next 100 episodes\n",
    "dqn_agent.save('TrainedModelMountainCar.h5', 'TrainedModelMountainCar_weights')\n",
    "#End the game            \n",
    "env.close()"
   ]
  },
  {
   "cell_type": "code",
   "execution_count": 8,
   "metadata": {},
   "outputs": [
    {
     "data": {
      "text/plain": [
       "[<matplotlib.lines.Line2D at 0xd4bbd59988>]"
      ]
     },
     "execution_count": 8,
     "metadata": {},
     "output_type": "execute_result"
    },
    {
     "data": {
      "image/png": "[encoded data removed]",
      "text/plain": [
       "<Figure size 432x288 with 2 Axes>"
      ]
     },
     "metadata": {
      "needs_background": "light"
     },
     "output_type": "display_data"
    }
   ],
   "source": [
    "fig,(ax1,ax2) = plt.subplots(2)\n",
    "fig.suptitle('REWARD OVER EACH EPISODE VS AVERAGE REWARD OVER 100 EPISODES')\n",
    "ax1.plot(range(1,len(rewards)+1), rewards, label = 'Reward of each episode')\n",
    "ax2.plot(100*(np.arange(len(ave_reward_list)) +1),ave_reward_list, label = 'Average Reward over 100 episodes')"
   ]
  },
  {
   "cell_type": "code",
   "execution_count": 1,
   "metadata": {},
   "outputs": [
    {
     "name": "stderr",
     "output_type": "stream",
     "text": [
      "Using TensorFlow backend.\n"
     ]
    }
   ],
   "source": [
    "import gym \n",
    "import numpy as np\n",
    "from keras import models\n",
    "import os\n",
    "from gym import wrappers\n",
    "env = gym.make('MountainCar-v0')"
   ]
  },
  {
   "cell_type": "code",
   "execution_count": 2,
   "metadata": {},
   "outputs": [],
   "source": [
    "model = models.load_model('TrainedModelMountainCar.h5')\n",
    "\n",
    "#model1 = model1.load_weights('TrainedModelMountainCar_weights')"
   ]
  },
  {
   "cell_type": "code",
   "execution_count": null,
   "metadata": {},
   "outputs": [
    {
     "name": "stdout",
     "output_type": "stream",
     "text": [
      "==================================================\n",
      "Episode1 finished after 151 time_step with a reward -151.0\n",
      "==================================================\n",
      "Episode2 finished after 146 time_step with a reward -146.0\n",
      "==================================================\n",
      "Episode3 finished after 148 time_step with a reward -148.0\n",
      "==================================================\n",
      "Episode4 finished after 153 time_step with a reward -153.0\n",
      "==================================================\n",
      "Episode5 finished after 150 time_step with a reward -150.0\n",
      "==================================================\n"
     ]
    }
   ],
   "source": [
    "#Testing the model on the environment\n",
    "state_size = env.observation_space.shape[0]\n",
    "#env = wrappers.Monitor(env, os.path.join(os.getcwd(), \"Videos\"), force =True)\n",
    "for e in range(10):\n",
    "    current_state = env.reset().reshape(1,state_size)\n",
    "    print('==================================================')\n",
    "    reward_sum= 0\n",
    "    for t in range(200):\n",
    "        env.render()\n",
    "        action = np.argmax(model.predict(current_state)[0])\n",
    "        new_state,reward,done,_ = env.step(action)\n",
    "        reward_sum += reward\n",
    "        new_state = new_state.reshape(1,state_size)\n",
    "        current_state = new_state\n",
    "        \n",
    "        if done:\n",
    "            print(\"Episode{} finished after {} time_step with a reward {}\".format(e+1, t+1, reward_sum))\n",
    "            break          \n",
    "env.close()"
   ]
  },
  {
   "cell_type": "code",
   "execution_count": null,
   "metadata": {},
   "outputs": [],
   "source": [
    "for e in range(1000):\n",
    "    env.reset()\n",
    "    env.render()\n",
    "    action = env.action_space.sample()\n",
    "env.close()"
   ]
  },
  {
   "cell_type": "code",
   "execution_count": null,
   "metadata": {},
   "outputs": [],
   "source": []
  }
 ],
 "metadata": {
  "kernelspec": {
   "display_name": "Python 3",
   "language": "python",
   "name": "python3"
  },
  "language_info": {
   "codemirror_mode": {
    "name": "ipython",
    "version": 3
   },
   "file_extension": ".py",
   "mimetype": "text/x-python",
   "name": "python",
   "nbconvert_exporter": "python",
   "pygments_lexer": "ipython3",
   "version": "3.7.6"
  }
 },
 "nbformat": 4,
 "nbformat_minor": 4
}
